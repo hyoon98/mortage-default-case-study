{
 "cells": [
  {
   "cell_type": "markdown",
   "metadata": {},
   "source": [
    "You work for a streaming company that is deciding to create its' own movie to put out on its' streaming platform. The company wants to know the details on how to make the first movie launch as successful as possible in the United States, but wants to also keep the broader international consumers in mind. \\\n",
    "Once the details of the movie have been chosen, the company also wants to know the type of user that will watch this movie. This could help bring in specific advertisers who might want to target this consumer base."
   ]
  },
  {
   "cell_type": "code",
   "execution_count": 1,
   "metadata": {},
   "outputs": [
    {
     "name": "stdout",
     "output_type": "stream",
     "text": [
      "<class 'pandas.core.frame.DataFrame'>\n",
      "RangeIndex: 6214 entries, 0 to 6213\n",
      "Data columns (total 16 columns):\n",
      " #   Column                      Non-Null Count  Dtype  \n",
      "---  ------                      --------------  -----  \n",
      " 0   User_ID                     6214 non-null   object \n",
      " 1   Session_ID                  6214 non-null   object \n",
      " 2   Device_ID                   6214 non-null   int64  \n",
      " 3   Video_ID                    6214 non-null   int64  \n",
      " 4   Duration_Watched (minutes)  6214 non-null   float64\n",
      " 5   Genre                       6214 non-null   object \n",
      " 6   Country                     6214 non-null   object \n",
      " 7   Age                         6214 non-null   int64  \n",
      " 8   Gender                      6214 non-null   object \n",
      " 9   Subscription_Status         6214 non-null   object \n",
      " 10  Ratings                     6214 non-null   int64  \n",
      " 11  Languages                   6214 non-null   object \n",
      " 12  Device_Type                 6214 non-null   object \n",
      " 13  Location                    6214 non-null   object \n",
      " 14  Playback_Quality            6214 non-null   object \n",
      " 15  Interaction_Events          6214 non-null   int64  \n",
      "dtypes: float64(1), int64(5), object(10)\n",
      "memory usage: 776.9+ KB\n"
     ]
    }
   ],
   "source": [
    "import pandas as pd\n",
    "import matplotlib.pyplot as plt\n",
    "\n",
    "df = pd.read_csv('./streaming-data/streaming_viewership_data.csv')\n",
    "\n",
    "df.info()"
   ]
  },
  {
   "cell_type": "markdown",
   "metadata": {},
   "source": [
    "Metadata:\n",
    "\n",
    "User_ID: Unique Identifier for the User.\\\n",
    "Session_ID: Unique Identifier for the Session. A session is assumed to be started when a view clicks on a video. Each seperate video watched by the same user counts as a different session.\\\n",
    "Device_ID: Identifier for the device used by the user.\\\n",
    "Video_ID: Identifier for the video content being viewed.\\\n",
    "Duration_Watched: The amount of time (in minutes) the user spent watching the video.\\\n",
    "Genre: The genre of the video content (Action, Comedy, Drama, Thriller, Sci-Fi).\\\n",
    "Subscription_Status: The user's subscription status (Free, Premium).\\\n",
    "Ratings: The user's rating or feedback for the content (1 to 5).\\\n",
    "Languages: The language of the content being viewed.\\\n",
    "Device_Type: The type of device used by the user (Smartphone, Tablet, Smart TV, Desktop, Laptop).\\\n",
    "Location: The location or city where the interaction event occurred.\\\n",
    "Playback_Quality: The quality of video playback (HD, SD, 4K).\\\n",
    "Interaction_Events: The count of interaction events that occurred during the user's session (e.g., clicks, likes, shares, etc.).\\"
   ]
  },
  {
   "cell_type": "markdown",
   "metadata": {},
   "source": [
    "Check if data needs to be cleaned"
   ]
  },
  {
   "cell_type": "code",
   "execution_count": 29,
   "metadata": {},
   "outputs": [
    {
     "data": {
      "text/html": [
       "<div>\n",
       "<style scoped>\n",
       "    .dataframe tbody tr th:only-of-type {\n",
       "        vertical-align: middle;\n",
       "    }\n",
       "\n",
       "    .dataframe tbody tr th {\n",
       "        vertical-align: top;\n",
       "    }\n",
       "\n",
       "    .dataframe thead th {\n",
       "        text-align: right;\n",
       "    }\n",
       "</style>\n",
       "<table border=\"1\" class=\"dataframe\">\n",
       "  <thead>\n",
       "    <tr style=\"text-align: right;\">\n",
       "      <th></th>\n",
       "      <th>Device_ID</th>\n",
       "      <th>Video_ID</th>\n",
       "      <th>Duration_Watched (minutes)</th>\n",
       "      <th>Age</th>\n",
       "      <th>Ratings</th>\n",
       "      <th>Interaction_Events</th>\n",
       "    </tr>\n",
       "  </thead>\n",
       "  <tbody>\n",
       "    <tr>\n",
       "      <th>Device_ID</th>\n",
       "      <td>1.000000</td>\n",
       "      <td>0.002833</td>\n",
       "      <td>0.006892</td>\n",
       "      <td>0.003308</td>\n",
       "      <td>0.012609</td>\n",
       "      <td>0.022148</td>\n",
       "    </tr>\n",
       "    <tr>\n",
       "      <th>Video_ID</th>\n",
       "      <td>0.002833</td>\n",
       "      <td>1.000000</td>\n",
       "      <td>0.007713</td>\n",
       "      <td>0.004196</td>\n",
       "      <td>-0.003179</td>\n",
       "      <td>0.011832</td>\n",
       "    </tr>\n",
       "    <tr>\n",
       "      <th>Duration_Watched (minutes)</th>\n",
       "      <td>0.006892</td>\n",
       "      <td>0.007713</td>\n",
       "      <td>1.000000</td>\n",
       "      <td>0.000845</td>\n",
       "      <td>0.010902</td>\n",
       "      <td>-0.012278</td>\n",
       "    </tr>\n",
       "    <tr>\n",
       "      <th>Age</th>\n",
       "      <td>0.003308</td>\n",
       "      <td>0.004196</td>\n",
       "      <td>0.000845</td>\n",
       "      <td>1.000000</td>\n",
       "      <td>0.008028</td>\n",
       "      <td>0.006368</td>\n",
       "    </tr>\n",
       "    <tr>\n",
       "      <th>Ratings</th>\n",
       "      <td>0.012609</td>\n",
       "      <td>-0.003179</td>\n",
       "      <td>0.010902</td>\n",
       "      <td>0.008028</td>\n",
       "      <td>1.000000</td>\n",
       "      <td>-0.008162</td>\n",
       "    </tr>\n",
       "    <tr>\n",
       "      <th>Interaction_Events</th>\n",
       "      <td>0.022148</td>\n",
       "      <td>0.011832</td>\n",
       "      <td>-0.012278</td>\n",
       "      <td>0.006368</td>\n",
       "      <td>-0.008162</td>\n",
       "      <td>1.000000</td>\n",
       "    </tr>\n",
       "  </tbody>\n",
       "</table>\n",
       "</div>"
      ],
      "text/plain": [
       "                            Device_ID  Video_ID  Duration_Watched (minutes)  \\\n",
       "Device_ID                    1.000000  0.002833                    0.006892   \n",
       "Video_ID                     0.002833  1.000000                    0.007713   \n",
       "Duration_Watched (minutes)   0.006892  0.007713                    1.000000   \n",
       "Age                          0.003308  0.004196                    0.000845   \n",
       "Ratings                      0.012609 -0.003179                    0.010902   \n",
       "Interaction_Events           0.022148  0.011832                   -0.012278   \n",
       "\n",
       "                                 Age   Ratings  Interaction_Events  \n",
       "Device_ID                   0.003308  0.012609            0.022148  \n",
       "Video_ID                    0.004196 -0.003179            0.011832  \n",
       "Duration_Watched (minutes)  0.000845  0.010902           -0.012278  \n",
       "Age                         1.000000  0.008028            0.006368  \n",
       "Ratings                     0.008028  1.000000           -0.008162  \n",
       "Interaction_Events          0.006368 -0.008162            1.000000  "
      ]
     },
     "execution_count": 29,
     "metadata": {},
     "output_type": "execute_result"
    }
   ],
   "source": [
    "numeric_columns = df.select_dtypes(include=['float64', 'int64']).columns\n",
    "df[numeric_columns].corr()\n"
   ]
  },
  {
   "cell_type": "code",
   "execution_count": 2,
   "metadata": {},
   "outputs": [
    {
     "data": {
      "text/plain": [
       "False    6214\n",
       "Name: count, dtype: int64"
      ]
     },
     "execution_count": 2,
     "metadata": {},
     "output_type": "execute_result"
    }
   ],
   "source": [
    "df.duplicated().value_counts()"
   ]
  },
  {
   "cell_type": "code",
   "execution_count": 3,
   "metadata": {},
   "outputs": [
    {
     "data": {
      "text/plain": [
       "User_ID\n",
       "eb4f9229-74df-45f6-baac-cf19241b8b30    1\n",
       "a42adb04-f400-4fbe-bfb5-fcf7742b7aca    1\n",
       "dde847d5-3de4-44c5-84d8-9f74b7c8c33a    1\n",
       "39467eae-9215-4f9f-99d4-670a0e829340    1\n",
       "65ccbaf8-7bf0-4baa-9a31-b86d598ca148    1\n",
       "                                       ..\n",
       "0ea84d41-4260-4fb8-8094-557f354dc71d    1\n",
       "3997a80f-b77d-4b31-b484-5577dd511281    1\n",
       "3ec2890a-1699-450d-889f-46140a1eb4fd    1\n",
       "2103a156-abbc-4870-a4ca-d2f6bb0e90ab    1\n",
       "16e0315a-4993-4ce0-a098-340ea5997f3f    1\n",
       "Name: count, Length: 6214, dtype: int64"
      ]
     },
     "execution_count": 3,
     "metadata": {},
     "output_type": "execute_result"
    }
   ],
   "source": [
    "df[\"User_ID\"].value_counts()"
   ]
  },
  {
   "cell_type": "code",
   "execution_count": 4,
   "metadata": {},
   "outputs": [
    {
     "data": {
      "text/plain": [
       "Session_ID\n",
       "cb2142a7-0750-49ed-b8ac-a975fe1ff69a    1\n",
       "107c28c0-f2b2-4b89-99fa-082c39903836    1\n",
       "9624661b-e54f-471d-94c4-56cf12e42cbf    1\n",
       "38580cc0-75d0-4e0d-b3a3-3e29c9d80676    1\n",
       "7da18d8f-9d6f-4604-966c-2e8c6091fc30    1\n",
       "                                       ..\n",
       "47c76509-98a6-4634-ba04-8e434ea8738b    1\n",
       "5faf415f-3d79-4399-85c0-2805e70da874    1\n",
       "5c366ae1-c615-4565-8ad4-171b6d5dc71a    1\n",
       "200efd90-5a1e-4a46-ace1-f90048546b07    1\n",
       "83c2ee3b-ceef-4735-a64f-3eeac96ecbf5    1\n",
       "Name: count, Length: 6214, dtype: int64"
      ]
     },
     "execution_count": 4,
     "metadata": {},
     "output_type": "execute_result"
    }
   ],
   "source": [
    "df[\"Session_ID\"].value_counts()"
   ]
  },
  {
   "cell_type": "code",
   "execution_count": 5,
   "metadata": {},
   "outputs": [
    {
     "data": {
      "text/html": [
       "<div>\n",
       "<style scoped>\n",
       "    .dataframe tbody tr th:only-of-type {\n",
       "        vertical-align: middle;\n",
       "    }\n",
       "\n",
       "    .dataframe tbody tr th {\n",
       "        vertical-align: top;\n",
       "    }\n",
       "\n",
       "    .dataframe thead th {\n",
       "        text-align: right;\n",
       "    }\n",
       "</style>\n",
       "<table border=\"1\" class=\"dataframe\">\n",
       "  <thead>\n",
       "    <tr style=\"text-align: right;\">\n",
       "      <th></th>\n",
       "      <th>Device_ID</th>\n",
       "      <th>Video_ID</th>\n",
       "      <th>Duration_Watched (minutes)</th>\n",
       "      <th>Age</th>\n",
       "      <th>Ratings</th>\n",
       "      <th>Interaction_Events</th>\n",
       "    </tr>\n",
       "  </thead>\n",
       "  <tbody>\n",
       "    <tr>\n",
       "      <th>count</th>\n",
       "      <td>6214.000000</td>\n",
       "      <td>6214.000000</td>\n",
       "      <td>6214.000000</td>\n",
       "      <td>6214.000000</td>\n",
       "      <td>6214.000000</td>\n",
       "      <td>6214.000000</td>\n",
       "    </tr>\n",
       "    <tr>\n",
       "      <th>mean</th>\n",
       "      <td>496.762150</td>\n",
       "      <td>50.323785</td>\n",
       "      <td>60.378389</td>\n",
       "      <td>39.665594</td>\n",
       "      <td>2.987448</td>\n",
       "      <td>50.776794</td>\n",
       "    </tr>\n",
       "    <tr>\n",
       "      <th>std</th>\n",
       "      <td>287.681163</td>\n",
       "      <td>28.671178</td>\n",
       "      <td>34.597273</td>\n",
       "      <td>17.571317</td>\n",
       "      <td>1.403304</td>\n",
       "      <td>29.009363</td>\n",
       "    </tr>\n",
       "    <tr>\n",
       "      <th>min</th>\n",
       "      <td>1.000000</td>\n",
       "      <td>1.000000</td>\n",
       "      <td>0.055809</td>\n",
       "      <td>10.000000</td>\n",
       "      <td>1.000000</td>\n",
       "      <td>0.000000</td>\n",
       "    </tr>\n",
       "    <tr>\n",
       "      <th>25%</th>\n",
       "      <td>248.000000</td>\n",
       "      <td>26.000000</td>\n",
       "      <td>30.413538</td>\n",
       "      <td>24.000000</td>\n",
       "      <td>2.000000</td>\n",
       "      <td>26.000000</td>\n",
       "    </tr>\n",
       "    <tr>\n",
       "      <th>50%</th>\n",
       "      <td>493.500000</td>\n",
       "      <td>50.000000</td>\n",
       "      <td>60.765637</td>\n",
       "      <td>40.000000</td>\n",
       "      <td>3.000000</td>\n",
       "      <td>51.000000</td>\n",
       "    </tr>\n",
       "    <tr>\n",
       "      <th>75%</th>\n",
       "      <td>742.000000</td>\n",
       "      <td>75.000000</td>\n",
       "      <td>90.874141</td>\n",
       "      <td>55.000000</td>\n",
       "      <td>4.000000</td>\n",
       "      <td>76.000000</td>\n",
       "    </tr>\n",
       "    <tr>\n",
       "      <th>max</th>\n",
       "      <td>1000.000000</td>\n",
       "      <td>100.000000</td>\n",
       "      <td>119.999972</td>\n",
       "      <td>70.000000</td>\n",
       "      <td>5.000000</td>\n",
       "      <td>100.000000</td>\n",
       "    </tr>\n",
       "  </tbody>\n",
       "</table>\n",
       "</div>"
      ],
      "text/plain": [
       "         Device_ID     Video_ID  Duration_Watched (minutes)          Age  \\\n",
       "count  6214.000000  6214.000000                 6214.000000  6214.000000   \n",
       "mean    496.762150    50.323785                   60.378389    39.665594   \n",
       "std     287.681163    28.671178                   34.597273    17.571317   \n",
       "min       1.000000     1.000000                    0.055809    10.000000   \n",
       "25%     248.000000    26.000000                   30.413538    24.000000   \n",
       "50%     493.500000    50.000000                   60.765637    40.000000   \n",
       "75%     742.000000    75.000000                   90.874141    55.000000   \n",
       "max    1000.000000   100.000000                  119.999972    70.000000   \n",
       "\n",
       "           Ratings  Interaction_Events  \n",
       "count  6214.000000         6214.000000  \n",
       "mean      2.987448           50.776794  \n",
       "std       1.403304           29.009363  \n",
       "min       1.000000            0.000000  \n",
       "25%       2.000000           26.000000  \n",
       "50%       3.000000           51.000000  \n",
       "75%       4.000000           76.000000  \n",
       "max       5.000000          100.000000  "
      ]
     },
     "execution_count": 5,
     "metadata": {},
     "output_type": "execute_result"
    }
   ],
   "source": [
    "df.describe()"
   ]
  },
  {
   "cell_type": "markdown",
   "metadata": {},
   "source": [
    "Observing the shape of the data, there are some possible outliers at bottom percentile of duration watched that may have been misclicks. Otherwise, unique values are unique, other measured values are within a reasonable range, and there are no null values. One thing to note of interest is that a user is only ever represented in the dataset once, and tied to one instance of a session."
   ]
  },
  {
   "cell_type": "markdown",
   "metadata": {},
   "source": [
    "Different metrics for success:\n",
    "\n",
    "Highly rated, total watch time, interactions\n",
    "As a note, watch time can directly lead to higher revenue for free users, as they will be shown ads. Should investigate if there is a difference between what free users watch vs premium users."
   ]
  },
  {
   "cell_type": "code",
   "execution_count": 15,
   "metadata": {},
   "outputs": [
    {
     "name": "stdout",
     "output_type": "stream",
     "text": [
      "Genre\n",
      "Action         61969.060436\n",
      "Comedy         60495.726317\n",
      "Documentary    66083.098348\n",
      "Drama          60410.830093\n",
      "Sci-Fi         62453.576739\n",
      "Thriller       63779.014247\n",
      "Name: Duration_Watched (minutes), dtype: float64\n",
      "['Sci-Fi' 'Comedy' 'Documentary' 'Action' 'Drama' 'Thriller']\n"
     ]
    },
    {
     "data": {
      "text/plain": [
       "<BarContainer object of 6 artists>"
      ]
     },
     "execution_count": 15,
     "metadata": {},
     "output_type": "execute_result"
    },
    {
     "data": {
      "image/png": "[encoded data removed]",
      "text/plain": [
       "<Figure size 640x480 with 1 Axes>"
      ]
     },
     "metadata": {},
     "output_type": "display_data"
    }
   ],
   "source": [
    "#Total Time Watched\n",
    "\n",
    "duration_by_genre = df.groupby('Genre')['Duration_Watched (minutes)'].sum()\n",
    "plt.bar(df[\"Genre\"].unique(),  duration_by_genre)"
   ]
  },
  {
   "cell_type": "code",
   "execution_count": 48,
   "metadata": {},
   "outputs": [
    {
     "ename": "TypeError",
     "evalue": "Axes.text() missing 1 required positional argument: 's'",
     "output_type": "error",
     "traceback": [
      "\u001b[1;31m---------------------------------------------------------------------------\u001b[0m",
      "\u001b[1;31mTypeError\u001b[0m                                 Traceback (most recent call last)",
      "Cell \u001b[1;32mIn[48], line 27\u001b[0m\n\u001b[0;32m     25\u001b[0m     genre \u001b[38;5;241m=\u001b[39m row[\u001b[38;5;124m'\u001b[39m\u001b[38;5;124mGenre\u001b[39m\u001b[38;5;124m'\u001b[39m]\n\u001b[0;32m     26\u001b[0m     avg_rating \u001b[38;5;241m=\u001b[39m row[\u001b[38;5;124m'\u001b[39m\u001b[38;5;124mRatings\u001b[39m\u001b[38;5;124m'\u001b[39m]\n\u001b[1;32m---> 27\u001b[0m     ax\u001b[38;5;241m.\u001b[39mtext(idx, \u001b[38;5;124mf\u001b[39m\u001b[38;5;124m'\u001b[39m\u001b[38;5;124mAvg: \u001b[39m\u001b[38;5;132;01m{\u001b[39;00mavg_rating\u001b[38;5;132;01m:\u001b[39;00m\u001b[38;5;124m.2f\u001b[39m\u001b[38;5;132;01m}\u001b[39;00m\u001b[38;5;124m'\u001b[39m, ha\u001b[38;5;241m=\u001b[39m\u001b[38;5;124m'\u001b[39m\u001b[38;5;124mcenter\u001b[39m\u001b[38;5;124m'\u001b[39m, va\u001b[38;5;241m=\u001b[39m\u001b[38;5;124m'\u001b[39m\u001b[38;5;124mtop\u001b[39m\u001b[38;5;124m'\u001b[39m, color\u001b[38;5;241m=\u001b[39m\u001b[38;5;124m'\u001b[39m\u001b[38;5;124mblack\u001b[39m\u001b[38;5;124m'\u001b[39m, fontweight\u001b[38;5;241m=\u001b[39m\u001b[38;5;124m'\u001b[39m\u001b[38;5;124mbold\u001b[39m\u001b[38;5;124m'\u001b[39m)\n\u001b[0;32m     30\u001b[0m plt\u001b[38;5;241m.\u001b[39mxlabel(\u001b[38;5;124m'\u001b[39m\u001b[38;5;124mGenre\u001b[39m\u001b[38;5;124m'\u001b[39m)\n\u001b[0;32m     31\u001b[0m plt\u001b[38;5;241m.\u001b[39mylabel(\u001b[38;5;124m'\u001b[39m\u001b[38;5;124mCount\u001b[39m\u001b[38;5;124m'\u001b[39m)\n",
      "\u001b[1;31mTypeError\u001b[0m: Axes.text() missing 1 required positional argument: 's'"
     ]
    },
    {
     "data": {
      "image/png": "[encoded data removed]",
      "text/plain": [
       "<Figure size 1200x800 with 1 Axes>"
      ]
     },
     "metadata": {},
     "output_type": "display_data"
    }
   ],
   "source": [
    "import pandas as pd\n",
    "import matplotlib.pyplot as plt\n",
    "\n",
    "# Assuming df is your DataFrame\n",
    "# Filter the DataFrame to include only rows where the language is English\n",
    "df_english = df[df['Languages'] == 'English']\n",
    "\n",
    "# Group by 'Genre' and 'Ratings' and count the occurrences\n",
    "grouped_df = df_english.groupby(['Genre', 'Ratings']).size().reset_index(name='Count')\n",
    "\n",
    "# Pivot the DataFrame to have genres on the x-axis and ratings as columns\n",
    "pivot_df = grouped_df.pivot(index='Genre', columns='Ratings', values='Count').fillna(0)\n",
    "\n",
    "# Plotting\n",
    "ax = pivot_df.plot(kind='bar', figsize=(12, 8))\n",
    "\n",
    "# Annotate the bars with the count values\n",
    "for container in ax.containers:\n",
    "    ax.bar_label(container)\n",
    "\n",
    "# Calculate the average rating for each genre\n",
    "average_ratings = df_english.groupby('Genre')['Ratings'].mean()\n",
    "\n",
    "for idx, row in average_ratings.reset_index().iterrows():\n",
    "    genre = row['Genre']\n",
    "    avg_rating = row['Ratings']\n",
    "    ax.text(idx, 50, f'Avg: {avg_rating:.2f}', ha='center', va='top', color='black', fontweight='bold')\n",
    "\n",
    "\n",
    "plt.xlabel('Genre')\n",
    "plt.ylabel('Count')\n",
    "plt.title('Count of Ratings by Genre (English Only)')\n",
    "plt.legend(title='Ratings')\n",
    "plt.show()"
   ]
  },
  {
   "cell_type": "code",
   "execution_count": 31,
   "metadata": {},
   "outputs": [
    {
     "name": "stdout",
     "output_type": "stream",
     "text": [
      "         Genre   Ratings\n",
      "0       Action  3.142857\n",
      "1       Comedy  3.018349\n",
      "2  Documentary  2.964444\n",
      "3        Drama  2.943925\n",
      "4       Sci-Fi  3.013514\n",
      "5     Thriller  2.912442\n"
     ]
    }
   ],
   "source": [
    "print(average_ratings)"
   ]
  }
 ],
 "metadata": {
  "kernelspec": {
   "display_name": "Python 3",
   "language": "python",
   "name": "python3"
  },
  "language_info": {
   "codemirror_mode": {
    "name": "ipython",
    "version": 3
   },
   "file_extension": ".py",
   "mimetype": "text/x-python",
   "name": "python",
   "nbconvert_exporter": "python",
   "pygments_lexer": "ipython3",
   "version": "3.12.4"
  }
 },
 "nbformat": 4,
 "nbformat_minor": 2
}
